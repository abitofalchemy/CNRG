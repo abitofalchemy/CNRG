{
 "cells": [
  {
   "cell_type": "code",
   "execution_count": 1,
   "metadata": {},
   "outputs": [],
   "source": [
    "import matplotlib.pyplot as plt\n",
    "import seaborn \n",
    "import pandas as pd\n",
    "import numpy as np\n",
    "from scipy.cluster.hierarchy import dendrogram, linkage, cophenet, to_tree\n",
    "from scipy.spatial.distance import pdist\n",
    "import networkx as nx"
   ]
  },
  {
   "cell_type": "code",
   "execution_count": 2,
   "metadata": {},
   "outputs": [
    {
     "name": "stdout",
     "output_type": "stream",
     "text": [
      "/Users/satyaki/ND/research/embedding\n"
     ]
    }
   ],
   "source": [
    "# cd embedding/"
   ]
  },
  {
   "cell_type": "code",
   "execution_count": 3,
   "metadata": {},
   "outputs": [],
   "source": [
    "np.set_printoptions(precision=5, suppress=True)"
   ]
  },
  {
   "cell_type": "markdown",
   "metadata": {},
   "source": [
    "### Read embedding"
   ]
  },
  {
   "cell_type": "code",
   "execution_count": 197,
   "metadata": {},
   "outputs": [],
   "source": [
    "# df = pd.read_csv('g1.emb', sep=' ', header=None, names=['node', 'x'])\n",
    "# df = pd.read_csv('g1_128.emb', sep=' ', header=None)\n",
    "# df = pd.read_csv('g2.emb', sep=' ', header=None)\n",
    "df = pd.read_csv('dummy.emb', sep=' ', header=None)"
   ]
  },
  {
   "cell_type": "code",
   "execution_count": 198,
   "metadata": {},
   "outputs": [
    {
     "data": {
      "text/html": [
       "<div>\n",
       "<style scoped>\n",
       "    .dataframe tbody tr th:only-of-type {\n",
       "        vertical-align: middle;\n",
       "    }\n",
       "\n",
       "    .dataframe tbody tr th {\n",
       "        vertical-align: top;\n",
       "    }\n",
       "\n",
       "    .dataframe thead th {\n",
       "        text-align: right;\n",
       "    }\n",
       "</style>\n",
       "<table border=\"1\" class=\"dataframe\">\n",
       "  <thead>\n",
       "    <tr style=\"text-align: right;\">\n",
       "      <th></th>\n",
       "      <th>0</th>\n",
       "      <th>1</th>\n",
       "      <th>2</th>\n",
       "      <th>3</th>\n",
       "      <th>4</th>\n",
       "      <th>5</th>\n",
       "      <th>6</th>\n",
       "      <th>7</th>\n",
       "      <th>8</th>\n",
       "      <th>9</th>\n",
       "      <th>...</th>\n",
       "      <th>119</th>\n",
       "      <th>120</th>\n",
       "      <th>121</th>\n",
       "      <th>122</th>\n",
       "      <th>123</th>\n",
       "      <th>124</th>\n",
       "      <th>125</th>\n",
       "      <th>126</th>\n",
       "      <th>127</th>\n",
       "      <th>128</th>\n",
       "    </tr>\n",
       "  </thead>\n",
       "  <tbody>\n",
       "    <tr>\n",
       "      <th>0</th>\n",
       "      <td>6</td>\n",
       "      <td>0.003643</td>\n",
       "      <td>-0.103823</td>\n",
       "      <td>0.005158</td>\n",
       "      <td>0.032265</td>\n",
       "      <td>0.072231</td>\n",
       "      <td>-0.078176</td>\n",
       "      <td>0.087677</td>\n",
       "      <td>0.223092</td>\n",
       "      <td>0.086880</td>\n",
       "      <td>...</td>\n",
       "      <td>-0.112250</td>\n",
       "      <td>0.011426</td>\n",
       "      <td>-0.062141</td>\n",
       "      <td>-0.056455</td>\n",
       "      <td>-0.012936</td>\n",
       "      <td>-0.264616</td>\n",
       "      <td>-0.249197</td>\n",
       "      <td>0.075791</td>\n",
       "      <td>0.263238</td>\n",
       "      <td>0.095771</td>\n",
       "    </tr>\n",
       "    <tr>\n",
       "      <th>1</th>\n",
       "      <td>9</td>\n",
       "      <td>0.001485</td>\n",
       "      <td>-0.101634</td>\n",
       "      <td>0.000083</td>\n",
       "      <td>0.024311</td>\n",
       "      <td>0.069899</td>\n",
       "      <td>-0.077510</td>\n",
       "      <td>0.084237</td>\n",
       "      <td>0.211882</td>\n",
       "      <td>0.087096</td>\n",
       "      <td>...</td>\n",
       "      <td>-0.109328</td>\n",
       "      <td>0.013377</td>\n",
       "      <td>-0.063114</td>\n",
       "      <td>-0.054366</td>\n",
       "      <td>-0.016210</td>\n",
       "      <td>-0.250725</td>\n",
       "      <td>-0.236354</td>\n",
       "      <td>0.076125</td>\n",
       "      <td>0.247469</td>\n",
       "      <td>0.098381</td>\n",
       "    </tr>\n",
       "    <tr>\n",
       "      <th>2</th>\n",
       "      <td>2</td>\n",
       "      <td>0.004253</td>\n",
       "      <td>-0.100922</td>\n",
       "      <td>0.003598</td>\n",
       "      <td>0.021526</td>\n",
       "      <td>0.067285</td>\n",
       "      <td>-0.075909</td>\n",
       "      <td>0.084325</td>\n",
       "      <td>0.202718</td>\n",
       "      <td>0.074589</td>\n",
       "      <td>...</td>\n",
       "      <td>-0.105555</td>\n",
       "      <td>0.007010</td>\n",
       "      <td>-0.060844</td>\n",
       "      <td>-0.053472</td>\n",
       "      <td>-0.013847</td>\n",
       "      <td>-0.246051</td>\n",
       "      <td>-0.221112</td>\n",
       "      <td>0.073099</td>\n",
       "      <td>0.239066</td>\n",
       "      <td>0.093342</td>\n",
       "    </tr>\n",
       "    <tr>\n",
       "      <th>3</th>\n",
       "      <td>5</td>\n",
       "      <td>0.001902</td>\n",
       "      <td>-0.107102</td>\n",
       "      <td>-0.000768</td>\n",
       "      <td>0.023198</td>\n",
       "      <td>0.073931</td>\n",
       "      <td>-0.080352</td>\n",
       "      <td>0.088012</td>\n",
       "      <td>0.204305</td>\n",
       "      <td>0.087089</td>\n",
       "      <td>...</td>\n",
       "      <td>-0.103538</td>\n",
       "      <td>0.010810</td>\n",
       "      <td>-0.061618</td>\n",
       "      <td>-0.050321</td>\n",
       "      <td>-0.015314</td>\n",
       "      <td>-0.254296</td>\n",
       "      <td>-0.234616</td>\n",
       "      <td>0.075840</td>\n",
       "      <td>0.241316</td>\n",
       "      <td>0.100737</td>\n",
       "    </tr>\n",
       "    <tr>\n",
       "      <th>4</th>\n",
       "      <td>3</td>\n",
       "      <td>-0.002601</td>\n",
       "      <td>-0.099831</td>\n",
       "      <td>0.008253</td>\n",
       "      <td>0.022843</td>\n",
       "      <td>0.070471</td>\n",
       "      <td>-0.077953</td>\n",
       "      <td>0.084912</td>\n",
       "      <td>0.203399</td>\n",
       "      <td>0.074869</td>\n",
       "      <td>...</td>\n",
       "      <td>-0.101219</td>\n",
       "      <td>0.008533</td>\n",
       "      <td>-0.062135</td>\n",
       "      <td>-0.055120</td>\n",
       "      <td>-0.017957</td>\n",
       "      <td>-0.246072</td>\n",
       "      <td>-0.227896</td>\n",
       "      <td>0.073193</td>\n",
       "      <td>0.239281</td>\n",
       "      <td>0.096647</td>\n",
       "    </tr>\n",
       "  </tbody>\n",
       "</table>\n",
       "<p>5 rows × 129 columns</p>\n",
       "</div>"
      ],
      "text/plain": [
       "   0         1         2         3         4         5         6         7    \\\n",
       "0    6  0.003643 -0.103823  0.005158  0.032265  0.072231 -0.078176  0.087677   \n",
       "1    9  0.001485 -0.101634  0.000083  0.024311  0.069899 -0.077510  0.084237   \n",
       "2    2  0.004253 -0.100922  0.003598  0.021526  0.067285 -0.075909  0.084325   \n",
       "3    5  0.001902 -0.107102 -0.000768  0.023198  0.073931 -0.080352  0.088012   \n",
       "4    3 -0.002601 -0.099831  0.008253  0.022843  0.070471 -0.077953  0.084912   \n",
       "\n",
       "        8         9      ...          119       120       121       122  \\\n",
       "0  0.223092  0.086880    ...    -0.112250  0.011426 -0.062141 -0.056455   \n",
       "1  0.211882  0.087096    ...    -0.109328  0.013377 -0.063114 -0.054366   \n",
       "2  0.202718  0.074589    ...    -0.105555  0.007010 -0.060844 -0.053472   \n",
       "3  0.204305  0.087089    ...    -0.103538  0.010810 -0.061618 -0.050321   \n",
       "4  0.203399  0.074869    ...    -0.101219  0.008533 -0.062135 -0.055120   \n",
       "\n",
       "        123       124       125       126       127       128  \n",
       "0 -0.012936 -0.264616 -0.249197  0.075791  0.263238  0.095771  \n",
       "1 -0.016210 -0.250725 -0.236354  0.076125  0.247469  0.098381  \n",
       "2 -0.013847 -0.246051 -0.221112  0.073099  0.239066  0.093342  \n",
       "3 -0.015314 -0.254296 -0.234616  0.075840  0.241316  0.100737  \n",
       "4 -0.017957 -0.246072 -0.227896  0.073193  0.239281  0.096647  \n",
       "\n",
       "[5 rows x 129 columns]"
      ]
     },
     "execution_count": 198,
     "metadata": {},
     "output_type": "execute_result"
    }
   ],
   "source": [
    "df.head()"
   ]
  },
  {
   "cell_type": "code",
   "execution_count": 199,
   "metadata": {},
   "outputs": [],
   "source": [
    "# convert it to a matrix\n",
    "mat = df.as_matrix()"
   ]
  },
  {
   "cell_type": "code",
   "execution_count": 200,
   "metadata": {},
   "outputs": [
    {
     "data": {
      "text/plain": [
       "array([[ 0.00364, -0.10382,  0.00516, ...,  0.07579,  0.26324,  0.09577],\n",
       "       [ 0.00148, -0.10163,  0.00008, ...,  0.07613,  0.24747,  0.09838],\n",
       "       [ 0.00425, -0.10092,  0.0036 , ...,  0.0731 ,  0.23907,  0.09334],\n",
       "       ...,\n",
       "       [ 0.00536, -0.10275,  0.00405, ...,  0.06774,  0.2516 ,  0.09303],\n",
       "       [ 0.00786, -0.09914, -0.00092, ...,  0.06899,  0.24934,  0.09801],\n",
       "       [-0.00037, -0.09847,  0.00466, ...,  0.07491,  0.24355,  0.09839]])"
      ]
     },
     "execution_count": 200,
     "metadata": {},
     "output_type": "execute_result"
    }
   ],
   "source": [
    "mat[:,1:]"
   ]
  },
  {
   "cell_type": "markdown",
   "metadata": {},
   "source": [
    "## Pick a method of hierarchical clustering"
   ]
  },
  {
   "cell_type": "code",
   "execution_count": 225,
   "metadata": {},
   "outputs": [
    {
     "name": "stdout",
     "output_type": "stream",
     "text": [
      "single 0.7298395158449347\n",
      "complete 0.5248718424323267\n",
      "average 0.7796479038877377\n",
      "weighted 0.7795345614454501\n",
      "centroid 0.7692896518863451\n",
      "median 0.7391600855291954\n",
      "ward 0.5651314427887442\n"
     ]
    }
   ],
   "source": [
    "for method in ['single', 'complete', 'average', 'weighted', 'centroid', 'median', 'ward']:\n",
    "    Z = linkage(mat[:, 1:], method)\n",
    "    c, coph_dist = cophenet(Z, pdist(mat[:, 1:]))\n",
    "    print(method, c)\n",
    "# Z = linkage(mat[:, 1:], 'average')"
   ]
  },
  {
   "cell_type": "code",
   "execution_count": 226,
   "metadata": {},
   "outputs": [
    {
     "data": {
      "text/plain": [
       "array([[ 6.     ,  7.     ,  0.03639,  2.     ],\n",
       "       [ 2.     ,  4.     ,  0.03915,  2.     ],\n",
       "       [ 1.     ,  3.     ,  0.04218,  2.     ],\n",
       "       [ 8.     , 11.     ,  0.0433 ,  3.     ],\n",
       "       [ 5.     , 10.     ,  0.04965,  3.     ],\n",
       "       [ 9.     , 12.     ,  0.05503,  5.     ],\n",
       "       [13.     , 14.     ,  0.06588,  8.     ],\n",
       "       [ 0.     , 15.     ,  0.09298,  9.     ]])"
      ]
     },
     "execution_count": 226,
     "metadata": {},
     "output_type": "execute_result"
    }
   ],
   "source": [
    "Z[:10, :]"
   ]
  },
  {
   "cell_type": "code",
   "execution_count": 227,
   "metadata": {},
   "outputs": [
    {
     "data": {
      "image/png": "[encoded data removed]",
      "text/plain": [
       "<matplotlib.figure.Figure at 0x1a1c00e518>"
      ]
     },
     "metadata": {},
     "output_type": "display_data"
    }
   ],
   "source": [
    "plt.figure(figsize=(25, 10))\n",
    "plt.title('Dendrogram')\n",
    "\n",
    "dendrogram(\n",
    "    Z,\n",
    "#     leaf_rotation=90,\n",
    "    leaf_font_size=20,\n",
    "    labels=list(map(lambda x: str(int(x)), mat[:, 0])),\n",
    "    show_leaf_counts=True,\n",
    "    count_sort=True\n",
    ")\n",
    "# plt.savefig('dendro_g1.png')\n",
    "plt.show()\n"
   ]
  },
  {
   "cell_type": "markdown",
   "metadata": {},
   "source": [
    "### Read edgelist"
   ]
  },
  {
   "cell_type": "code",
   "execution_count": 228,
   "metadata": {},
   "outputs": [],
   "source": [
    "# G = nx.read_edgelist('lfr_48.txt', nodetype=int)\n",
    "G = nx.read_edgelist('dummy.txt', nodetype=int)"
   ]
  },
  {
   "cell_type": "markdown",
   "metadata": {},
   "source": [
    "## Find the spanning nodes and edges"
   ]
  },
  {
   "cell_type": "code",
   "execution_count": 243,
   "metadata": {},
   "outputs": [
    {
     "name": "stdout",
     "output_type": "stream",
     "text": [
      "{8} {7} {(8, 7)} 0\n",
      "\n",
      "{2} {3} {(2, 3)} 0\n",
      "\n",
      "{9} {5} set() -1\n",
      "\n",
      "{4} {9, 5} {(4, 5)} 0\n",
      "\n",
      "{1} {2, 3} {(1, 2)} 0\n",
      "\n",
      "{8, 7} {9, 4, 5} {(8, 9), (7, 9)} 0\n",
      "\n",
      "{1, 2, 3} {4, 5, 7, 8, 9} {(1, 4), (1, 5), (3, 9), (2, 5), (3, 4), (3, 5)} 2\n",
      "\n",
      "{6} {1, 2, 3, 4, 5, 7, 8, 9} {(6, 9), (6, 2), (6, 7), (6, 8)} 3\n",
      "\n"
     ]
    }
   ],
   "source": [
    "labels = {i: int(lab) for i, lab in enumerate(mat[:, 0])}\n",
    "clusters_list = [] #list of dictionary of clusters \n",
    "clusters_list.append({v: (set([v]), None) for k, v in labels.items()}) # set of nodes, and set of edges spanning two children\n",
    "# print(clusters_list)\n",
    "\n",
    "for i, row in enumerate(Z):\n",
    "    ix1, ix2 = map(int, row[: 2])\n",
    "    d, num = row[-2: ]\n",
    "    \n",
    "    if ix1 < G.order():\n",
    "        ix1 = labels[ix1]\n",
    "    else:\n",
    "        ix1 = 'C_{}'.format(ix1)\n",
    "        \n",
    "    if ix2 < G.order():\n",
    "        ix2 = labels[ix2]\n",
    "    else:\n",
    "        ix2 = 'C_{}'.format(ix2)\n",
    "    \n",
    "    clusters = clusters_list[i].copy()\n",
    "\n",
    "    clu1 = clusters[ix1][0]\n",
    "    clusters.pop(ix1)\n",
    "\n",
    "    clu2 = clusters[ix2][0]\n",
    "    clusters.pop(ix2)\n",
    "    \n",
    "    clu = clu1 | clu2\n",
    "    spanning_edges = set(nx.edge_boundary(G, clu1, clu2))\n",
    "    spanning_nodes = set(nx.node_boundary(G, clu1, clu2))\n",
    "    clusters['C_{}'.format(G.order()+i)] = (clu, spanning_edges)\n",
    "    print(clu1, clu2, spanning_edges, len(spanning_nodes) - 1)#'C_{}'.format(G.order()+i), sorted(clu))\n",
    "    print()\n",
    "    clusters_list.append(clusters)\n",
    "clusters_list.reverse()"
   ]
  },
  {
   "cell_type": "code",
   "execution_count": null,
   "metadata": {},
   "outputs": [],
   "source": []
  },
  {
   "cell_type": "code",
   "execution_count": null,
   "metadata": {},
   "outputs": [],
   "source": []
  }
 ],
 "metadata": {
  "kernelspec": {
   "display_name": "Python 3",
   "language": "python",
   "name": "python3"
  },
  "language_info": {
   "codemirror_mode": {
    "name": "ipython",
    "version": 3
   },
   "file_extension": ".py",
   "mimetype": "text/x-python",
   "name": "python",
   "nbconvert_exporter": "python",
   "pygments_lexer": "ipython3",
   "version": "3.6.4"
  }
 },
 "nbformat": 4,
 "nbformat_minor": 2
}
